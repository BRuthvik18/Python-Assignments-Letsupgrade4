{
 "cells": [
  {
   "cell_type": "code",
   "execution_count": 1,
   "metadata": {},
   "outputs": [
    {
     "name": "stdout",
     "output_type": "stream",
     "text": [
      "Enter the number till which you want sum of numbers: 10\n",
      "1 --> 1\n",
      "2 --> 3\n",
      "3 --> 6\n",
      "4 --> 10\n",
      "5 --> 15\n",
      "6 --> 21\n",
      "7 --> 28\n",
      "8 --> 36\n",
      "9 --> 45\n",
      "10 --> 55\n",
      "The sum of 10 Numbers is 55\n"
     ]
    }
   ],
   "source": [
    "n=int(input(\"Enter the number till which you want sum of numbers: \"))\n",
    "sum1=0\n",
    "i=0\n",
    "while i<n:\n",
    "    i+=1\n",
    "    sum1=sum1+i\n",
    "    print(i,\"-->\",sum1)\n",
    "print(f\"The sum of {n} Numbers is {sum1}\")    "
   ]
  },
  {
   "cell_type": "code",
   "execution_count": 2,
   "metadata": {},
   "outputs": [
    {
     "name": "stdout",
     "output_type": "stream",
     "text": [
      "Enter a number to check it is prime or not :10\n",
      "10 is  Not a Prime Number\n"
     ]
    }
   ],
   "source": [
    "n=int(input(\"Enter a number to check it is prime or not :\"))\n",
    "for i in range(2,n):\n",
    "    if n%i==0:\n",
    "        print(f\"{n} is  Not a Prime Number\")\n",
    "        break\n",
    "else:\n",
    "    print(f\"{n} is  a Prime Number\")"
   ]
  },
  {
   "cell_type": "code",
   "execution_count": null,
   "metadata": {},
   "outputs": [],
   "source": []
  }
 ],
 "metadata": {
  "kernelspec": {
   "display_name": "Python 3",
   "language": "python",
   "name": "python3"
  },
  "language_info": {
   "codemirror_mode": {
    "name": "ipython",
    "version": 3
   },
   "file_extension": ".py",
   "mimetype": "text/x-python",
   "name": "python",
   "nbconvert_exporter": "python",
   "pygments_lexer": "ipython3",
   "version": "3.7.6"
  }
 },
 "nbformat": 4,
 "nbformat_minor": 4
}
